{
 "cells": [
  {
   "cell_type": "markdown",
   "id": "44fd337c-c468-418c-b38e-4c8bf35a7bf4",
   "metadata": {},
   "source": [
    "# Extragalactic Galaxy Calculation\n",
    "\n",
    "In principle, calculating the emission of a extragalactic galaxy is simple, we only need to adjust the sightlines to let them pointing to the same direction -- our Earth. `synax.coords.get_extragalactic_positions` kindly gives the integration positions for such tasks, you only need to give it the figure size of your final map, and $\\theta$ and $\\phi$ angle of the sightline direction."
   ]
  },
  {
   "cell_type": "code",
   "execution_count": 1,
   "id": "a95a8da6-dc20-470c-bf35-cc17d92dca5c",
   "metadata": {
    "tags": []
   },
   "outputs": [
    {
     "name": "stdout",
     "output_type": "stream",
     "text": [
      "env: XLA_PYTHON_CLIENT_ALLOCATOR=platform\n"
     ]
    }
   ],
   "source": [
    "#%env XLA_PYTHON_CLIENT_PREALLOCATE=false\n",
    "%env XLA_PYTHON_CLIENT_ALLOCATOR=platform"
   ]
  },
  {
   "cell_type": "code",
   "execution_count": 2,
   "id": "0917ee18-79a6-44da-be71-dc4c6936dc5d",
   "metadata": {
    "tags": []
   },
   "outputs": [],
   "source": [
    "import os\n",
    "import sys\n",
    "import jax\n",
    "jax.config.update(\"jax_enable_x64\", True)\n",
    "#sys.path.append('../synax/')\n",
    "\n",
    "import synax,importlib\n",
    "import jax.numpy as jnp\n",
    "import interpax\n",
    "import healpy as hp\n",
    "import numpy as np\n",
    "import matplotlib.pyplot as plt\n",
    "from functools import partial\n",
    "import scipy.constants as const"
   ]
  },
  {
   "cell_type": "code",
   "execution_count": 3,
   "id": "64e751e6-327e-4894-9d9d-6c183d310a71",
   "metadata": {
    "tags": []
   },
   "outputs": [],
   "source": [
    "#for debug\n",
    "def reload_package(package):\n",
    "    importlib.reload(package)\n",
    "    for attribute_name in dir(package):\n",
    "        attribute = getattr(package, attribute_name)\n",
    "        if type(attribute) == type(package):\n",
    "            importlib.reload(attribute)\n",
    "            \n",
    "reload_package(synax)"
   ]
  },
  {
   "cell_type": "markdown",
   "id": "111c3156-34b4-48e9-8f57-e6dd7dd9c3a0",
   "metadata": {},
   "source": [
    "## Get positions!\n",
    "\n",
    "The key difference here. We assume the final output map is a figure with size `(128,128)`. Note the $\\theta$ and $\\phi$ denotes the angle from galaxy to earth, not from earth to galaxy. If you find it inconvinent, please contact me to change its definition.\n",
    "It will give us the normal `poss,dls,nhats`, as well as a `mask` tell us some pixels in the final map do not have any emission. We will not calculate these pixels. `resolution` is the physical size of your map, in units of kpc."
   ]
  },
  {
   "cell_type": "code",
   "execution_count": 4,
   "id": "9a622df4-cf38-431f-a2a4-8a6e57954b5a",
   "metadata": {
    "tags": []
   },
   "outputs": [
    {
     "name": "stderr",
     "output_type": "stream",
     "text": [
      "2024-10-02 15:51:59.725005: W external/xla/xla/service/gpu/nvptx_compiler.cc:765] The NVIDIA driver's CUDA version is 12.2 which is older than the ptxas CUDA version (12.5.40). Because the driver is older than the ptxas version, XLA is disabling parallel compilation, which may slow down compilation. You should update your NVIDIA driver or use the NVIDIA-provided CUDA forward compatibility packages.\n"
     ]
    }
   ],
   "source": [
    "poss,dls,nhats,mask,resolution = synax.coords.get_extragalactic_positions(128,jnp.pi/3,jnp.pi/4)"
   ]
  },
  {
   "cell_type": "code",
   "execution_count": 5,
   "id": "2ad8bb72-c428-4940-ad71-89d354ebf889",
   "metadata": {
    "tags": []
   },
   "outputs": [
    {
     "data": {
      "text/plain": [
       "<matplotlib.collections.PathCollection at 0x7fa2b4128750>"
      ]
     },
     "execution_count": 5,
     "metadata": {},
     "output_type": "execute_result"
    },
    {
     "data": {
      "image/png": "[encoded data removed]",
      "text/plain": [
       "<Figure size 640x480 with 1 Axes>"
      ]
     },
     "metadata": {},
     "output_type": "display_data"
    }
   ],
   "source": [
    "# projection of 1000-th line in the XZ plane\n",
    "plt.scatter(poss[0,1000,:],poss[2,1000,:])"
   ]
  },
  {
   "cell_type": "markdown",
   "id": "88546e57-911b-4bcb-af95-c92d6fb6c184",
   "metadata": {},
   "source": [
    "## Generates the fields\n",
    "Totally the same."
   ]
  },
  {
   "cell_type": "code",
   "execution_count": 6,
   "id": "010c8a7a-d6d7-4a6e-a863-93d83bb30926",
   "metadata": {
    "tags": []
   },
   "outputs": [
    {
     "data": {
      "text/plain": [
       "(8216, 512)"
      ]
     },
     "execution_count": 6,
     "metadata": {},
     "output_type": "execute_result"
    }
   ],
   "source": [
    "C_generator = synax.cfield.C_WMAP(poss)\n",
    "\n",
    "C_field = C_generator.C_field()\n",
    "C_field.shape"
   ]
  },
  {
   "cell_type": "code",
   "execution_count": 7,
   "id": "5908a360-dcaf-412e-8bb5-6b4128ee6d46",
   "metadata": {
    "tags": []
   },
   "outputs": [],
   "source": [
    "nx,ny,nz = 256,256,64 # number of voxels along xyz axis\n",
    "\n",
    "xs,step = jnp.linspace(-20,20,nx,endpoint=False,retstep=True)\n",
    "xs = xs + step*0.5# get x coordinates\n",
    "\n",
    "ys,step = jnp.linspace(-20,20,ny,endpoint=False,retstep=True)\n",
    "ys = ys + step*0.5# get x coordinates\n",
    "\n",
    "zs,step = jnp.linspace(-5,5,nz,endpoint=False,retstep=True)\n",
    "zs = zs + step*0.5# get x coordinates\n",
    "\n",
    "coords = jnp.meshgrid(xs,ys,zs,indexing='ij')\n",
    "coords[0].shape\n",
    "\n",
    "tereg = np.load('te.npy')"
   ]
  },
  {
   "cell_type": "code",
   "execution_count": 8,
   "id": "42df63b3-4e5c-4734-83bd-4253a05c823d",
   "metadata": {
    "tags": []
   },
   "outputs": [],
   "source": [
    "TE_generator = synax.tefield.TE_grid(poss,(xs,ys,zs))"
   ]
  },
  {
   "cell_type": "code",
   "execution_count": 9,
   "id": "13283119-81bf-40a6-9e33-d3230ce737f7",
   "metadata": {
    "tags": []
   },
   "outputs": [],
   "source": [
    "TE_field = TE_generator.TE_field(tereg)"
   ]
  },
  {
   "cell_type": "code",
   "execution_count": 10,
   "id": "fbab0e4c-9293-4e08-a40f-5cc3bfbc42be",
   "metadata": {
    "tags": []
   },
   "outputs": [
    {
     "data": {
      "text/plain": [
       "(8216, 512, 3)"
      ]
     },
     "execution_count": 10,
     "metadata": {},
     "output_type": "execute_result"
    }
   ],
   "source": [
    "lsa_params = {\"b0\":1.2,\n",
    "               \"psi0\":27.0*np.pi/180,\n",
    "               \"psi1\":0.9*np.pi/180,\n",
    "               \"chi0\":25.0*np.pi/180}\n",
    "\n",
    "B_generator = synax.bfield.B_lsa(poss)\n",
    "B_field = B_generator.B_field(lsa_params)\n",
    "B_field.shape"
   ]
  },
  {
   "cell_type": "markdown",
   "id": "dd48fd79-bef0-408f-9efb-b6bd9b7fb5f6",
   "metadata": {},
   "source": [
    "## Simulate\n",
    "\n",
    "totally the same"
   ]
  },
  {
   "cell_type": "code",
   "execution_count": 11,
   "id": "3b033a28-9ca6-4040-9a32-2060dda42626",
   "metadata": {
    "tags": []
   },
   "outputs": [],
   "source": [
    "simer = synax.synax.Synax()\n",
    "freq = 2.4 # Ghz\n",
    "spectral_index = 3."
   ]
  },
  {
   "cell_type": "code",
   "execution_count": 13,
   "id": "dd47531c-3c80-4e21-83b3-1f55f3cf99f3",
   "metadata": {
    "tags": []
   },
   "outputs": [],
   "source": [
    "sync = simer.sim(freq,B_field,C_field,TE_field,nhats,dls,spectral_index)"
   ]
  },
  {
   "cell_type": "markdown",
   "id": "c98c78a0-a17b-47d4-91eb-f787dcdf54cc",
   "metadata": {},
   "source": [
    "## Visualize\n",
    "\n",
    "Note in this case, we need to create a 0 map and paste those calculated sightlines to this map, since we're not calculating all pixs in the map."
   ]
  },
  {
   "cell_type": "code",
   "execution_count": 14,
   "id": "4e165eaa-4777-49da-b6a4-276d89150dd4",
   "metadata": {
    "tags": []
   },
   "outputs": [],
   "source": [
    "Qmap,Umap = sync['Q'],sync['U']\n",
    "\n",
    "Q_total = jnp.zeros(mask.shape[0])\n",
    "\n",
    "U_total = jnp.zeros(mask.shape[0])"
   ]
  },
  {
   "cell_type": "code",
   "execution_count": 15,
   "id": "ac86091a-c7a0-4458-ac2f-9f690cc8bf4b",
   "metadata": {
    "tags": []
   },
   "outputs": [],
   "source": [
    "#Q_full = jnp.zeros_like(Q_total)\n",
    "Q_total = Q_total.at[mask].set(Qmap)\n",
    "U_total = U_total.at[mask].set(Umap)"
   ]
  },
  {
   "cell_type": "code",
   "execution_count": 16,
   "id": "e844fe33-aa65-4a07-b94a-0b13f50e2a06",
   "metadata": {
    "tags": []
   },
   "outputs": [
    {
     "data": {
      "text/plain": [
       "Text(0.5, 1.0, 'Synax U')"
      ]
     },
     "execution_count": 16,
     "metadata": {},
     "output_type": "execute_result"
    },
    {
     "data": {
      "image/png": "[encoded data removed]",
      "text/plain": [
       "<Figure size 1400x600 with 2 Axes>"
      ]
     },
     "metadata": {},
     "output_type": "display_data"
    }
   ],
   "source": [
    "plt.figure(figsize = (7,3),dpi=200)\n",
    "\n",
    "plt.subplot(121)\n",
    "plt.imshow(Q_total.reshape((128,128)))\n",
    "#plt.colorbar()\n",
    "plt.axis('off')\n",
    "plt.title('Synax Q')\n",
    "\n",
    "plt.subplot(122)\n",
    "plt.imshow(U_total.reshape((128,128)))\n",
    "#plt.colorbar()\n",
    "plt.axis('off')\n",
    "plt.title('Synax U')"
   ]
  },
  {
   "cell_type": "code",
   "execution_count": 17,
   "id": "7bd7a1b3-3920-46ee-bfcf-7142e9f07715",
   "metadata": {
    "tags": []
   },
   "outputs": [
    {
     "data": {
      "text/plain": [
       "Array(0.42688294, dtype=float64)"
      ]
     },
     "execution_count": 17,
     "metadata": {},
     "output_type": "execute_result"
    }
   ],
   "source": [
    "resolution # physical resolution of the map"
   ]
  },
  {
   "cell_type": "code",
   "execution_count": null,
   "id": "c3654c21-9704-43e9-8c9b-49e5c88e447a",
   "metadata": {},
   "outputs": [],
   "source": []
  }
 ],
 "metadata": {
  "kernelspec": {
   "display_name": "diffuser",
   "language": "python",
   "name": "diffuser"
  },
  "language_info": {
   "codemirror_mode": {
    "name": "ipython",
    "version": 3
   },
   "file_extension": ".py",
   "mimetype": "text/x-python",
   "name": "python",
   "nbconvert_exporter": "python",
   "pygments_lexer": "ipython3",
   "version": "3.11.8"
  }
 },
 "nbformat": 4,
 "nbformat_minor": 5
}

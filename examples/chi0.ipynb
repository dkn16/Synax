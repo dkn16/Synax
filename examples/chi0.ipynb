{
 "cells": [
  {
   "cell_type": "code",
   "execution_count": 1,
   "id": "c07467c7-62bb-49e9-8813-9b4c35447e33",
   "metadata": {
    "tags": []
   },
   "outputs": [
    {
     "name": "stdout",
     "output_type": "stream",
     "text": [
      "env: XLA_PYTHON_CLIENT_ALLOCATOR=platform\n"
     ]
    }
   ],
   "source": [
    "#%env XLA_PYTHON_CLIENT_PREALLOCATE=false\n",
    "%env XLA_PYTHON_CLIENT_ALLOCATOR=platform"
   ]
  },
  {
   "cell_type": "code",
   "execution_count": 2,
   "id": "3f30d4d8-38d1-4d5e-9d05-1e4ef3934ac3",
   "metadata": {
    "tags": []
   },
   "outputs": [
    {
     "name": "stderr",
     "output_type": "stream",
     "text": [
      "2024-07-03 15:01:03.422660: W external/xla/xla/service/gpu/nvptx_compiler.cc:765] The NVIDIA driver's CUDA version is 12.2 which is older than the ptxas CUDA version (12.5.40). Because the driver is older than the ptxas version, XLA is disabling parallel compilation, which may slow down compilation. You should update your NVIDIA driver or use the NVIDIA-provided CUDA forward compatibility packages.\n"
     ]
    }
   ],
   "source": [
    "import os\n",
    "import sys\n",
    "import jax\n",
    "jax.config.update(\"jax_enable_x64\", True)\n",
    "sys.path.append('../synax/')\n",
    "\n",
    "import synax\n",
    "import jax.numpy as jnp\n",
    "import interpax\n",
    "import healpy as hp\n",
    "import numpy as np\n",
    "import matplotlib.pyplot as plt\n",
    "from functools import partial\n",
    "import scipy.constants as const"
   ]
  },
  {
   "cell_type": "markdown",
   "id": "27445ec6-6672-4676-adde-1cac8c20aa19",
   "metadata": {},
   "source": [
    "## read B-field"
   ]
  },
  {
   "cell_type": "code",
   "execution_count": 3,
   "id": "a3396a76-7043-4d66-8c76-ef8572b66a06",
   "metadata": {
    "tags": []
   },
   "outputs": [],
   "source": [
    "dtype = np.float64  # 64-bit floating point\n",
    "nx,ny,nz = 256,256,64\n",
    "# Read the binary file\n",
    "tereg = np.fromfile('../../SyncEmiss/tereg.bin', dtype=dtype).reshape((256,256,64))#.reshape((64,4,64,4,16,4)).mean(axis = (1,3,5))\n",
    "#ternd = np.fromfile('../../SyncEmiss/ternd.bin', dtype=dtype).reshape((256,256,64))*0#.reshape((64,4,64,4,16,4)).mean(axis = (1,3,5))\n",
    "\n",
    "breg = np.fromfile('../../SyncEmiss/breg.bin', dtype=dtype).reshape((256,256,64,3))#.reshape((64,4,64,4,16,4,3)).mean(axis = (1,3,5))\n",
    "brnd = np.fromfile('../../SyncEmiss/brnd.bin', dtype=dtype).reshape((256,256,64,3))#.reshape((64,4,64,4,16,4,3)).mean(axis = (1,3,5))\n",
    "\n",
    "B_field = breg+brnd\n",
    "B_field = jnp.ones_like(breg+brnd)*jnp.array([1,0,0])*6e-6\n",
    "TE_field = tereg#+ternd"
   ]
  },
  {
   "cell_type": "markdown",
   "id": "f62f21d4-e5a9-47ff-ac53-456c7997b590",
   "metadata": {},
   "source": [
    "## Calc $\\chi_0$"
   ]
  },
  {
   "cell_type": "code",
   "execution_count": 5,
   "id": "23c370b3-f96f-4624-aa92-a600c4468b05",
   "metadata": {
    "tags": []
   },
   "outputs": [],
   "source": [
    "xs,step = jnp.linspace(-20,20,nx,endpoint=False,retstep=True)\n",
    "xs = xs + step*0.5\n",
    "\n",
    "ys,step = jnp.linspace(-20,20,ny,endpoint=False,retstep=True)\n",
    "ys = ys + step*0.5\n",
    "\n",
    "zs,step = jnp.linspace(-5,5,nz,endpoint=False,retstep=True)\n",
    "zs = zs + step*0.5\n",
    "\n",
    "coords = jnp.meshgrid(xs,ys,zs,indexing='ij')\n",
    "\n",
    "def obtain_nhat(x:float,y:float,z:float,obs_coord:tuple[float] = (-8.3,0.,0.006)):\n",
    "    x_rel = x - obs_coord[0]\n",
    "    y_rel = y - obs_coord[1]\n",
    "    z_rel = z - obs_coord[2]\n",
    "    r = (x_rel**2+y_rel**2+z_rel**2)**0.5\n",
    "    return jnp.array([x_rel,y_rel,z_rel])/r\n",
    "\n",
    "obtain_nhat_vamp = jax.vmap(lambda x,y,z:obtain_nhat(x,y,z))\n",
    "nhats = obtain_nhat_vamp(coords[0].reshape(-1),coords[1].reshape(-1),coords[2].reshape(-1))\n",
    "nhats = nhats.reshape((nx,ny,nz,3))"
   ]
  },
  {
   "cell_type": "code",
   "execution_count": 6,
   "id": "f740da77-a4a2-49ac-8a80-87877367b79c",
   "metadata": {
    "tags": []
   },
   "outputs": [],
   "source": [
    "sinb = nhats[:,:,:,2]\n",
    "cosb = jnp.sqrt(1-sinb**2)\n",
    "cosl = nhats[:,:,:,0]/cosb\n",
    "sinl = nhats[:,:,:,1]/cosb"
   ]
  },
  {
   "cell_type": "code",
   "execution_count": 8,
   "id": "10d22247-68e6-4f2f-9e47-363ebd28a840",
   "metadata": {
    "tags": []
   },
   "outputs": [
    {
     "name": "stdout",
     "output_type": "stream",
     "text": [
      "CPU times: user 57.7 ms, sys: 7.24 ms, total: 65 ms\n",
      "Wall time: 81.6 ms\n"
     ]
    }
   ],
   "source": [
    "%%time\n",
    "Bz = B_field[...,2]\n",
    "By = B_field[...,1]\n",
    "Bx = B_field[...,0]\n",
    "tanchi0 = (Bz*cosb-sinb*(cosl*Bx+By*sinl))/(Bx*sinl-By*cosl)\n",
    "chi0 = jnp.arctan(tanchi0)"
   ]
  },
  {
   "cell_type": "code",
   "execution_count": 11,
   "id": "da143499-0d2a-4e61-8e1f-250702573084",
   "metadata": {
    "tags": []
   },
   "outputs": [
    {
     "data": {
      "text/plain": [
       "<matplotlib.colorbar.Colorbar at 0x7f48b0449f90>"
      ]
     },
     "execution_count": 11,
     "metadata": {},
     "output_type": "execute_result"
    },
    {
     "data": {
      "image/png": "[encoded data removed]",
      "text/plain": [
       "<Figure size 640x480 with 2 Axes>"
      ]
     },
     "metadata": {},
     "output_type": "display_data"
    }
   ],
   "source": [
    "plt.imshow(tanchi0[:,:,32])\n",
    "plt.colorbar()"
   ]
  },
  {
   "cell_type": "code",
   "execution_count": null,
   "id": "58671e3f-e3b2-4fc6-80d2-1714bfa67cff",
   "metadata": {},
   "outputs": [],
   "source": []
  }
 ],
 "metadata": {
  "kernelspec": {
   "display_name": "diffuser",
   "language": "python",
   "name": "diffuser"
  },
  "language_info": {
   "codemirror_mode": {
    "name": "ipython",
    "version": 3
   },
   "file_extension": ".py",
   "mimetype": "text/x-python",
   "name": "python",
   "nbconvert_exporter": "python",
   "pygments_lexer": "ipython3",
   "version": "3.11.8"
  }
 },
 "nbformat": 4,
 "nbformat_minor": 5
}
